{
 "cells": [
  {
   "cell_type": "markdown",
   "metadata": {},
   "source": [
    "## Python Programming Assignment"
   ]
  },
  {
   "cell_type": "markdown",
   "metadata": {},
   "source": [
    "Instructions: Implement Python programs to accomplish the following tasks"
   ]
  },
  {
   "cell_type": "markdown",
   "metadata": {},
   "source": [
    "## 1- Age Assignments Based on the Riddle"
   ]
  },
  {
   "cell_type": "markdown",
   "metadata": {},
   "source": [
    "## Problem Statement: Write a program to solve this age-related riddle! Anton, Beth, Chen, Drew, and Ethan are all friend.\n",
    "* Their ages are as follows:\n",
    "  * Anton is 21 years old.\n",
    "  * Beth is 6 years older than Anton.\n",
    "  * Chen is 20 years older than Beth.\n",
    "  * Drew is as old as Chen's age plus Anton's age.\n",
    "  * Ethan is the same age as Chen.\n",
    "  \n",
    "* Your code should store each person's age to a variable and print their names and ages at the end.\n",
    "  * Anton is 3\n",
    "  * Beth is 4\n",
    "  * Chen is 5\n",
    "  * Drew is 6\n",
    "  * Ethan is 7"
   ]
  },
  {
   "cell_type": "code",
   "execution_count": 2,
   "metadata": {},
   "outputs": [
    {
     "name": "stdout",
     "output_type": "stream",
     "text": [
      "Anton is 21 years old.\n",
      "Beth is 27 years old.\n",
      "Chen is 47 years old.\n",
      "Drew is 68 years old.\n",
      "Ethan is 47 years old.\n"
     ]
    }
   ],
   "source": [
    "# Define the ages based on the given conditions\n",
    "anton_age = 21\n",
    "beth_age = anton_age + 6\n",
    "chen_age = beth_age + 20\n",
    "drew_age = chen_age + anton_age\n",
    "ethan_age = chen_age\n",
    "\n",
    "# Print the ages\n",
    "print(f\"Anton is {anton_age} years old.\")\n",
    "print(f\"Beth is {beth_age} years old.\")\n",
    "print(f\"Chen is {chen_age} years old.\")\n",
    "print(f\"Drew is {drew_age} years old.\")\n",
    "print(f\"Ethan is {ethan_age} years old.\")\n"
   ]
  },
  {
   "cell_type": "markdown",
   "metadata": {},
   "source": [
    "## 2- Formatted String Interpolation"
   ]
  },
  {
   "cell_type": "markdown",
   "metadata": {},
   "source": [
    "## Task\n",
    "Given the variables `name`, `age`, and `city`, use f-strings to construct a sentence that describes a person using these variables.\n",
    "\n",
    "```python\n",
    "name = \"Alice\"\n",
    "age = 30\n",
    "city = \"New York\"\n",
    "\n",
    "sentence = f\"{name} is {age} years old and lives in {city}.\"\n",
    "print(sentence)\n"
   ]
  },
  {
   "cell_type": "code",
   "execution_count": 3,
   "metadata": {},
   "outputs": [
    {
     "name": "stdout",
     "output_type": "stream",
     "text": [
      "Rehman Ismail is 20 years old and lives in Lahore.\n"
     ]
    }
   ],
   "source": [
    "# making the variables\n",
    "name: str = \"Rehman Ismail\"\n",
    "age: int = 20\n",
    "city: str = \"Lahore\"\n",
    "\n",
    "# using f-string\n",
    "\n",
    "sentence = f\"{name} is {age} years old and lives in {city}.\"\n",
    "print(sentence)"
   ]
  },
  {
   "cell_type": "markdown",
   "metadata": {},
   "source": [
    "# 3-String Manipulation\n",
    "\n",
    "**Task:** Given the string `s`, use string methods to:\n",
    "1. Capitalize the first letter: make the first character uppercase and the rest of the string lowercase.\n",
    "2. Convert to uppercase: change all characters in the string to uppercase.\n",
    "3. Convert to lowercase: change all characters in the string to lowercase.\n",
    "\n",
    "```python```\n",
    "s: str = \"hElLo WoRlD\""
   ]
  },
  {
   "cell_type": "code",
   "execution_count": 7,
   "metadata": {},
   "outputs": [
    {
     "name": "stdout",
     "output_type": "stream",
     "text": [
      "Hello world\n",
      "HELLO WORLD\n",
      "hello world\n"
     ]
    }
   ],
   "source": [
    "## hello world stored in the variable\n",
    "word: str = \"hello world\"\n",
    "\n",
    "# capitalize the first letter\n",
    "\n",
    "capitalized_word = word[0].upper() + word[1:]\n",
    "print(capitalized_word)\n",
    "\n",
    "# convert to uppercase\n",
    "\n",
    "uppercase_word = word.upper()\n",
    "print(uppercase_word)\n",
    "\n",
    "# convert to lowercase\n",
    "\n",
    "lowercase_word = word.lower()\n",
    "print(lowercase_word)"
   ]
  },
  {
   "cell_type": "markdown",
   "metadata": {},
   "source": [
    "# 4-Substring Search\n",
    "\n",
    "## Task\n",
    "\n",
    "Given the string `s`, use string methods to:\n",
    "\n",
    "1. **Find the index of \"fox\"**: Get the starting index of the substring \"fox\". If \"fox\" is not found, it should return -1.\n",
    "2. **Count occurrences of \"the\"**: Use the string's built-in method to count how many times the substring \"the\" appears in the string."
   ]
  },
  {
   "cell_type": "code",
   "execution_count": 11,
   "metadata": {},
   "outputs": [
    {
     "name": "stdout",
     "output_type": "stream",
     "text": [
      "The fox index is 16\n",
      "The counts word 'the' is 1\n"
     ]
    }
   ],
   "source": [
    "# making the sentence\n",
    "\n",
    "s: str = \"The quick brown fox jumps over the lazy dog.\"\n",
    "\n",
    "# find the index of \"fox\"\n",
    "\n",
    "fox_index = s.index(\"fox\")\n",
    "print(f\"The fox index is {fox_index}\")\n",
    "\n",
    "# count occurrences of \"the\"\n",
    "\n",
    "the_count = s.count(\"the\")\n",
    "print(f\"The counts word 'the' is {the_count}\")"
   ]
  },
  {
   "cell_type": "markdown",
   "metadata": {},
   "source": [
    "## 5- String Replacement\n",
    "\n",
    "**Task:** Given the string `s`, use string methods to:\n",
    "- Replace \"Python\" with \"Java\": substitute \"Python\" with \"Java\"."
   ]
  },
  {
   "cell_type": "code",
   "execution_count": 13,
   "metadata": {},
   "outputs": [
    {
     "name": "stdout",
     "output_type": "stream",
     "text": [
      "I love Python programming.\n",
      "I love Java programming.\n"
     ]
    }
   ],
   "source": [
    "## making the variable stored in sentence\n",
    "\n",
    "s: str = \"I love Python programming.\"\n",
    "print(s)\n",
    "\n",
    "# replace \"Python\" with \"Java\"\n",
    "\n",
    "java_programming = s.replace(\"Python\", \"Java\")\n",
    "print(java_programming)"
   ]
  },
  {
   "cell_type": "markdown",
   "metadata": {},
   "source": [
    "## 6-String Splitting and Joining\n",
    "\n",
    "### Task: \n",
    "\n",
    "Given the string `s`, use string methods to:\n",
    "\n",
    "1. **Split into a list**: break the string into a list of substrings based on the delimiter `,`.\n",
    "2. **Join with spaces**: combine the list of substrings back into a single string, with each element separated by a space."
   ]
  },
  {
   "cell_type": "code",
   "execution_count": 22,
   "metadata": {},
   "outputs": [
    {
     "name": "stdout",
     "output_type": "stream",
     "text": [
      "['apple', 'banana', 'cherry', 'date', 'elderberry']\n"
     ]
    }
   ],
   "source": [
    "# making the list of fruits\n",
    "\n",
    "s: str = \"apple,banana,cherry,date,elderberry\"\n",
    "fruits = s.split(\",\")\n",
    "print(fruits)\n",
    "\n",
    "# join the list with spaces"
   ]
  },
  {
   "cell_type": "markdown",
   "metadata": {},
   "source": [
    "## 7-String Stripping and Justifying\n",
    "\n",
    "**Task**: Given the string `s`, use string methods to:\n",
    "\n",
    "1. **Remove leading/trailing spaces**: Remove all leading and trailing whitespace characters from the string.\n",
    "2. **Left justify with `*`**: Left justify the string within a field of width 20, using `*` as the fill character.\n",
    "3. **Right justify with `*`**: Right justify the string within a field of width 20, using `*` as the fill character.\n",
    "\n",
    "### Example\n",
    "```python\n",
    "s = \"   example string   \"\n",
    "# Remove leading/trailing spaces\n",
    "s = s.strip()\n",
    "print(f\"'{s}'\")  # Output: 'example string'\n",
    "\n",
    "# Left justify with '*'\n",
    "left_justified = s.ljust(20, '*')\n",
    "print(f\"'{left_justified}'\")  # Output: 'example string*****'\n",
    "\n",
    "# Right justify with '*'\n",
    "right_justified = s.rjust(20, '*')\n",
    "print(f\"'{right_justified}'\")  # Output: '*****example string'\n"
   ]
  },
  {
   "cell_type": "code",
   "execution_count": 30,
   "metadata": {},
   "outputs": [
    {
     "name": "stdout",
     "output_type": "stream",
     "text": [
      "example string\n",
      "example string******\n",
      "******example string\n"
     ]
    }
   ],
   "source": [
    "## removing the spaces and left, right justified\n",
    "\n",
    "s = \"   example string   \"\n",
    "s = s.strip()\n",
    "print(s)\n",
    "left_justified = s.ljust(20,\"*\")\n",
    "print(left_justified)\n",
    "right_justified = s.rjust(20, '*')\n",
    "print(right_justified)"
   ]
  },
  {
   "cell_type": "markdown",
   "metadata": {},
   "source": [
    "## 8-Convert an integer to its binary representation\n",
    "\n",
    "### Task: \n",
    "Given an integer `num`, obtain the binary representation of `num`.\n",
    "\n",
    "```python\n",
    "# Input\n",
    "num: int = 45\n",
    "\n",
    "# Conversion to binary representation\n",
    "binary_representation = bin(num)\n",
    "\n",
    "# Output\n",
    "print(\"Binary representation:\", binary_representation)\n"
   ]
  },
  {
   "cell_type": "code",
   "execution_count": 31,
   "metadata": {},
   "outputs": [
    {
     "name": "stdout",
     "output_type": "stream",
     "text": [
      "Binary representation: 0b11101010\n"
     ]
    }
   ],
   "source": [
    "## stored number in variable\n",
    "\n",
    "num: int = 234\n",
    "\n",
    "# converting to binary representation\n",
    "\n",
    "binary_representation = bin(num)\n",
    "\n",
    "# printing the binary representation\n",
    "\n",
    "print(\"Binary representation:\", binary_representation)"
   ]
  },
  {
   "cell_type": "markdown",
   "metadata": {},
   "source": [
    "# 9. Calculate Powers of Numbers\n",
    "\n",
    "## Task\n",
    "Given two integers `base` and `exponent`, compute `base` raised to the power of `exponent`.\n",
    "\n",
    "### Example\n",
    "```python\n",
    "base = 3\n",
    "exponent = 4\n"
   ]
  },
  {
   "cell_type": "code",
   "execution_count": 33,
   "metadata": {},
   "outputs": [
    {
     "name": "stdout",
     "output_type": "stream",
     "text": [
      "Power Result 1048576\n"
     ]
    }
   ],
   "source": [
    "## Calculate the powers of numbers\n",
    "\n",
    "num1: int = 4\n",
    "num2: int = 10\n",
    "\n",
    "power1 = num1 ** num2\n",
    "print(f\"Power Result {power1}\")"
   ]
  },
  {
   "cell_type": "markdown",
   "metadata": {},
   "source": [
    "### 10-Round Floating-Point Numbers\n",
    "\n",
    "**Task:** Given a floating-point number `value`\n",
    "\n",
    "1. Round `value` to the nearest integer.\n",
    "2. Round `value` to two decimal places.\n",
    "\n",
    "```python\n",
    "value: float = 12.34567\n",
    "\n",
    "# Expected Output:\n",
    "# Rounded to nearest integer: 12\n",
    "# Rounded to two decimal places: 12.35\n"
   ]
  },
  {
   "cell_type": "code",
   "execution_count": 34,
   "metadata": {},
   "outputs": [
    {
     "name": "stdout",
     "output_type": "stream",
     "text": [
      "Rounded to nearest integer: 6\n",
      "Rounded to two decimal places: 5.68\n"
     ]
    }
   ],
   "source": [
    "## stored the float value in a variable\n",
    "\n",
    "value: float = 5.6789\n",
    "\n",
    "# rounding to nearest integer\n",
    "\n",
    "rounded_integer = round(value)\n",
    "print(f\"Rounded to nearest integer: {rounded_integer}\")\n",
    "\n",
    "# rounding to two decimal places\n",
    "\n",
    "rounded_decimal = round(value, 2)\n",
    "print(f\"Rounded to two decimal places: {rounded_decimal}\")"
   ]
  }
 ],
 "metadata": {
  "kernelspec": {
   "display_name": "base",
   "language": "python",
   "name": "python3"
  },
  "language_info": {
   "codemirror_mode": {
    "name": "ipython",
    "version": 3
   },
   "file_extension": ".py",
   "mimetype": "text/x-python",
   "name": "python",
   "nbconvert_exporter": "python",
   "pygments_lexer": "ipython3",
   "version": "3.11.5"
  }
 },
 "nbformat": 4,
 "nbformat_minor": 2
}
